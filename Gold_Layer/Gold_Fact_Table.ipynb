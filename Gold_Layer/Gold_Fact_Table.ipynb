{
 "cells": [
  {
   "cell_type": "code",
   "execution_count": 0,
   "metadata": {
    "application/vnd.databricks.v1+cell": {
     "cellMetadata": {
      "byteLimit": 2048000,
      "rowLimit": 10000
     },
     "inputWidgets": {},
     "nuid": "e592103a-cb74-4ca4-bc30-0c0b1cc829e6",
     "showTitle": false,
     "tableResultSettingsMap": {},
     "title": ""
    }
   },
   "outputs": [],
   "source": [
    "from pyspark.sql.functions import *"
   ]
  },
  {
   "cell_type": "code",
   "execution_count": 0,
   "metadata": {
    "application/vnd.databricks.v1+cell": {
     "cellMetadata": {
      "byteLimit": 2048000,
      "rowLimit": 10000
     },
     "inputWidgets": {},
     "nuid": "ce601216-ecd1-4d77-8b7f-6b1a142f90d4",
     "showTitle": false,
     "tableResultSettingsMap": {},
     "title": ""
    }
   },
   "outputs": [],
   "source": [
    "def fact_table_creation(num_df, sub_df, tag_df, date_df, pre_df, dim_pre, dim_company):\n",
    "    num_tag_df = num_df.join(\n",
    "        tag_df,\n",
    "        on=[\"tag\", \"version\"],\n",
    "        how=\"inner\"\n",
    "    )\n",
    "\n",
    "    num_tag_df = num_tag_df.drop(\"datatype\", \"iord\", \"tlabel\", \"doc\")\n",
    "\n",
    "    num_tag_df = num_tag_df.select(\n",
    "        \"adsh\",\n",
    "        \"tag_id\",   # move tag_id to second\n",
    "        \"ddate\",\n",
    "        \"value\",\n",
    "        \"tag\",\n",
    "        \"version\"\n",
    "    )\n",
    "\n",
    "    fact_table = num_tag_df.join(sub_df, on=\"adsh\", how=\"inner\")\n",
    "\n",
    "    fact_table = fact_table.drop(\n",
    "        \"name\",\n",
    "        \"sic\",\n",
    "        \"countryba\",\n",
    "        \"stprba\",\n",
    "        \"cityba\",\n",
    "        \"zipba\",\n",
    "        \"baph\",\n",
    "        \"fye\",\n",
    "        \"fy\",\n",
    "        \"fp\"\n",
    "    )\n",
    "\n",
    "    fact_table = fact_table.drop(\n",
    "        \"form\",\n",
    "        \"period\",\n",
    "        \"filed\",\n",
    "        \"delay_days\",\n",
    "        \"accepted\",\n",
    "        \"instance\"\n",
    "    )\n",
    "\n",
    "    fact_table = fact_table.join(\n",
    "        date_df,\n",
    "        on=[\"ddate\"],\n",
    "        how=\"inner\"\n",
    "    )\n",
    "\n",
    "    fact_table=fact_table.drop(\"quarter\", \"year\", \"month\", \"day\")\n",
    "    fact_table=fact_table.withColumnRenamed(\"id\", \"dim_date_id\")\n",
    "\n",
    "    fact_table = fact_table.join(\n",
    "        pre_df,\n",
    "        on=[\"adsh\", \"tag\", \"version\"],\n",
    "        how=\"inner\"\n",
    "    )\n",
    "\n",
    "    fact_table = fact_table.join(\n",
    "        dim_pre,\n",
    "        on=[\"stmt\", \"report\", \"line\", \"plabel\"],\n",
    "        how=\"inner\"\n",
    "    )\n",
    "\n",
    "    fact_table=fact_table.withColumnRenamed(\"id\", \"dim_pre_id\").withColumnRenamed(\"tag_id\", \"dim_tag_id\")\n",
    "    fact_table=fact_table.drop(\"stmt\", \"report\", \"line\", \"plabel\")\n",
    "\n",
    "    fact_table = fact_table.join(\n",
    "        dim_company,\n",
    "        on=[\"cik\"],\n",
    "        how=\"inner\"\n",
    "    )\n",
    "    fact_table=fact_table.withColumnRenamed(\"id\", \"dim_company_id\")\n",
    "    fact_table=fact_table.drop(\"name\", \"sic\", \"countryba\", \"stprba\", \"cityba\", \"zipba\", \"form\", \"fy\", \"fp\", \"fye\", \"baph\")\n",
    "    fact_table=fact_table.select(\"adsh\", \"tag\", \"version\", \"ddate\", \"value\", \"cik\", \"dim_company_id\", \"dim_date_id\", \"dim_tag_id\", \"dim_pre_id\")\n",
    "    return fact_table"
   ]
  },
  {
   "cell_type": "code",
   "execution_count": 0,
   "metadata": {
    "application/vnd.databricks.v1+cell": {
     "cellMetadata": {
      "byteLimit": 2048000,
      "rowLimit": 10000
     },
     "inputWidgets": {},
     "nuid": "98f083a2-ca19-4941-8fc2-1358d2eceb7f",
     "showTitle": false,
     "tableResultSettingsMap": {},
     "title": ""
    }
   },
   "outputs": [],
   "source": [
    "num_df = spark.read.format(\"delta\").table(\"silver.numbers\")\n",
    "num_df = num_df.drop(\"is_value_incomplete\")\n",
    "sub_df = spark.read.format(\"delta\").table(\"silver.submissions\")\n",
    "tag_df = spark.read.format(\"delta\").table(\"silver.tags\")\n",
    "date_df = spark.read.format(\"delta\").table(\"gold.dim_date\")\n",
    "pre_df = spark.read.format(\"delta\").table(\"silver.presentations\")\n",
    "dim_pre= spark.read.format(\"delta\").table(\"gold.dim_pre\")\n",
    "dim_company= spark.read.format(\"delta\").table(\"gold.dim_company\")\n",
    "fact_table=fact_table_creation(num_df, sub_df, tag_df, date_df, pre_df, dim_pre, dim_company)\n",
    "display(fact_table)"
   ]
  },
  {
   "cell_type": "code",
   "execution_count": 0,
   "metadata": {
    "application/vnd.databricks.v1+cell": {
     "cellMetadata": {
      "byteLimit": 2048000,
      "implicitDf": true,
      "rowLimit": 10000
     },
     "inputWidgets": {},
     "nuid": "58a24fce-a431-4073-932b-34b7aae8c9e7",
     "showTitle": false,
     "tableResultSettingsMap": {},
     "title": ""
    }
   },
   "outputs": [],
   "source": [
    "%sql\n",
    "drop table if exists gold.fact_financial;"
   ]
  },
  {
   "cell_type": "code",
   "execution_count": 0,
   "metadata": {
    "application/vnd.databricks.v1+cell": {
     "cellMetadata": {
      "byteLimit": 2048000,
      "rowLimit": 10000
     },
     "inputWidgets": {},
     "nuid": "818c57e4-16ee-4f90-9417-c07f96587c22",
     "showTitle": false,
     "tableResultSettingsMap": {},
     "title": ""
    }
   },
   "outputs": [],
   "source": [
    "fact_table.write.format(\"delta\").mode(\"overwrite\").saveAsTable(\"gold.fact_financial\")\n",
    "financial_df_loaded = spark.read.format(\"delta\").table(\"gold.fact_financial\")\n",
    "display(financial_df_loaded)"
   ]
  },
  {
   "cell_type": "code",
   "execution_count": 0,
   "metadata": {
    "application/vnd.databricks.v1+cell": {
     "cellMetadata": {
      "byteLimit": 2048000,
      "rowLimit": 10000
     },
     "inputWidgets": {},
     "nuid": "12dcf207-8df8-4a08-8e38-222ba52dd3c5",
     "showTitle": false,
     "tableResultSettingsMap": {},
     "title": ""
    }
   },
   "outputs": [],
   "source": []
  }
 ],
 "metadata": {
  "application/vnd.databricks.v1+notebook": {
   "computePreferences": null,
   "dashboards": [],
   "environmentMetadata": {
    "base_environment": "",
    "environment_version": "1"
   },
   "inputWidgetPreferences": null,
   "language": "python",
   "notebookMetadata": {
    "mostRecentlyExecutedCommandWithImplicitDF": {
     "commandId": 7525539422956103,
     "dataframes": [
      "_sqldf"
     ]
    },
    "pythonIndentUnit": 4
   },
   "notebookName": "Gold_Fact_Table",
   "widgets": {}
  },
  "language_info": {
   "name": "python"
  }
 },
 "nbformat": 4,
 "nbformat_minor": 0
}
