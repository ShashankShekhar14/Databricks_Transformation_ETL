{
 "cells": [
  {
   "cell_type": "code",
   "execution_count": 0,
   "metadata": {
    "application/vnd.databricks.v1+cell": {
     "cellMetadata": {
      "byteLimit": 2048000,
      "rowLimit": 10000
     },
     "collapsed": true,
     "inputWidgets": {},
     "nuid": "ec597d59-1d52-4924-bb4c-83e515d08978",
     "showTitle": false,
     "tableResultSettingsMap": {},
     "title": ""
    }
   },
   "outputs": [],
   "source": [
    "spark.sql(\"DROP TABLE IF EXISTS gold.dim_tag\") "
   ]
  },
  {
   "cell_type": "code",
   "execution_count": 0,
   "metadata": {
    "application/vnd.databricks.v1+cell": {
     "cellMetadata": {
      "byteLimit": 2048000,
      "rowLimit": 10000
     },
     "inputWidgets": {},
     "nuid": "04108f0b-bd06-4bfe-9a01-5cf6192f8eca",
     "showTitle": false,
     "tableResultSettingsMap": {},
     "title": ""
    }
   },
   "outputs": [],
   "source": [
    "tag_df = spark.read.format(\"delta\").load(\"dbfs:/user/hive/warehouse/silver.db/tags\")\n",
    "tag_df.write.format(\"delta\").mode(\"overwrite\").saveAsTable(\"gold.dim_tag\")"
   ]
  },
  {
   "cell_type": "code",
   "execution_count": 0,
   "metadata": {
    "application/vnd.databricks.v1+cell": {
     "cellMetadata": {
      "byteLimit": 2048000,
      "rowLimit": 10000
     },
     "inputWidgets": {},
     "nuid": "38cbe49d-6f5c-46ce-8348-f6e03b890c00",
     "showTitle": false,
     "tableResultSettingsMap": {},
     "title": ""
    }
   },
   "outputs": [],
   "source": [
    "sub_df=spark.read.format(\"delta\").load(\"dbfs:/user/hive/warehouse/silver.db/submissions\")"
   ]
  },
  {
   "cell_type": "code",
   "execution_count": 0,
   "metadata": {
    "application/vnd.databricks.v1+cell": {
     "cellMetadata": {
      "byteLimit": 2048000,
      "rowLimit": 10000
     },
     "collapsed": true,
     "inputWidgets": {},
     "nuid": "c8f78308-9933-4ee6-98cb-064cd7fd776e",
     "showTitle": false,
     "tableResultSettingsMap": {},
     "title": ""
    }
   },
   "outputs": [],
   "source": [
    "spark.sql(\"DROP TABLE IF EXISTS gold.dim_submission\") "
   ]
  },
  {
   "cell_type": "code",
   "execution_count": 0,
   "metadata": {
    "application/vnd.databricks.v1+cell": {
     "cellMetadata": {
      "byteLimit": 2048000,
      "rowLimit": 10000
     },
     "inputWidgets": {},
     "nuid": "e423bbea-ee55-4a7e-9141-1ab628eeaad0",
     "showTitle": false,
     "tableResultSettingsMap": {},
     "title": ""
    }
   },
   "outputs": [],
   "source": [
    "dim_sub_df=sub_df.select(\"adsh\", \"form\", \"period\", \"filed\", \"delay_days\", \"accepted\", \"instance\")\n",
    "dim_sub_df.write.format(\"delta\").mode(\"overwrite\").saveAsTable(\"gold.dim_submission\")\n",
    "sub_df=sub_df.drop(\"period\", \"filed\", \"delay_days\", \"accepted\", \"instance\")"
   ]
  },
  {
   "cell_type": "code",
   "execution_count": 0,
   "metadata": {
    "application/vnd.databricks.v1+cell": {
     "cellMetadata": {
      "byteLimit": 2048000,
      "rowLimit": 10000
     },
     "inputWidgets": {},
     "nuid": "8250a960-e155-433f-8e5b-b72da03ebb96",
     "showTitle": false,
     "tableResultSettingsMap": {},
     "title": ""
    }
   },
   "outputs": [],
   "source": [
    "# display(sub_df.limit(20))"
   ]
  },
  {
   "cell_type": "code",
   "execution_count": 0,
   "metadata": {
    "application/vnd.databricks.v1+cell": {
     "cellMetadata": {
      "byteLimit": 2048000,
      "rowLimit": 10000
     },
     "inputWidgets": {},
     "nuid": "3390281d-3e0c-4cbd-a84b-a0e15d7ede4d",
     "showTitle": false,
     "tableResultSettingsMap": {},
     "title": ""
    }
   },
   "outputs": [],
   "source": [
    "from pyspark.sql.window import Window\n",
    "from pyspark.sql.functions import row_number\n",
    "\n",
    "dim_company_df=sub_df.select(\"cik\", \"name\", \"sic\", \"countryba\", \"stprba\", \"cityba\", \"zipba\", \"baph\", \"fye\",\"form\", \"fy\", \"fp\")\n",
    "dim_company_df.dropDuplicates()\n",
    "\n",
    "# Define a window over the entire dataframe\n",
    "window_spec = Window.orderBy(\"cik\")  # or any other stable column\n",
    "\n",
    "# Add surrogate key starting from 1\n",
    "dim_company_df = dim_company_df.withColumn(\"id\", row_number().over(window_spec))\n",
    "dim_company_df = dim_company_df.select(\"id\", \"cik\", \"name\", \"sic\", \"countryba\", \"stprba\", \"cityba\", \"zipba\", \"baph\", \"fye\", \"form\", \"fy\", \"fp\")\n",
    "display(dim_company_df)"
   ]
  },
  {
   "cell_type": "code",
   "execution_count": 0,
   "metadata": {
    "application/vnd.databricks.v1+cell": {
     "cellMetadata": {
      "byteLimit": 2048000,
      "rowLimit": 10000
     },
     "collapsed": true,
     "inputWidgets": {},
     "nuid": "cd73c28e-429c-4f9b-a41a-2654babae740",
     "showTitle": false,
     "tableResultSettingsMap": {},
     "title": ""
    }
   },
   "outputs": [],
   "source": [
    "spark.sql(\"DROP TABLE IF EXISTS gold.dim_company\") "
   ]
  },
  {
   "cell_type": "code",
   "execution_count": 0,
   "metadata": {
    "application/vnd.databricks.v1+cell": {
     "cellMetadata": {
      "byteLimit": 2048000,
      "rowLimit": 10000
     },
     "inputWidgets": {},
     "nuid": "f01a4a0b-f756-4383-b852-2364052fdc7b",
     "showTitle": false,
     "tableResultSettingsMap": {},
     "title": ""
    }
   },
   "outputs": [],
   "source": [
    "dim_company_df.write.format(\"delta\").mode(\"overwrite\").option(\"overwriteSchema\",\"true\").saveAsTable(\"gold.dim_company\")\n",
    "sub_df=sub_df.drop(\"name\", \"sic\", \"countryba\", \"stprba\", \"cityba\", \"zipba\", \"baph\", \"fye\", \"form\", \"fy\", \"fp\")"
   ]
  },
  {
   "cell_type": "code",
   "execution_count": 0,
   "metadata": {
    "application/vnd.databricks.v1+cell": {
     "cellMetadata": {
      "byteLimit": 2048000,
      "rowLimit": 10000
     },
     "inputWidgets": {},
     "nuid": "348133d1-65ee-4d5f-af45-0769258013fb",
     "showTitle": false,
     "tableResultSettingsMap": {},
     "title": ""
    }
   },
   "outputs": [],
   "source": [
    "# display(sub_df.limit(20))"
   ]
  },
  {
   "cell_type": "code",
   "execution_count": 0,
   "metadata": {
    "application/vnd.databricks.v1+cell": {
     "cellMetadata": {
      "byteLimit": 2048000,
      "rowLimit": 10000
     },
     "inputWidgets": {},
     "nuid": "fdd89de6-4a95-45b1-833f-a7ac66dec3d3",
     "showTitle": false,
     "tableResultSettingsMap": {},
     "title": ""
    }
   },
   "outputs": [],
   "source": [
    "tag_df_loaded = spark.read.format(\"delta\").load(\"/FileStore/Mock_Project/Star_Schema_Delta/dim_tag\")\n",
    "display(tag_df_loaded)"
   ]
  },
  {
   "cell_type": "code",
   "execution_count": 0,
   "metadata": {
    "application/vnd.databricks.v1+cell": {
     "cellMetadata": {
      "byteLimit": 2048000,
      "rowLimit": 10000
     },
     "inputWidgets": {},
     "nuid": "d178d834-b1dd-4f0e-b119-6664f338bd05",
     "showTitle": false,
     "tableResultSettingsMap": {},
     "title": ""
    }
   },
   "outputs": [],
   "source": [
    "submission_df_loaded = spark.read.format(\"delta\").load(\"/FileStore/Mock_Project/Star_Schema_Delta/dim_submission\")\n",
    "display(submission_df_loaded)"
   ]
  },
  {
   "cell_type": "code",
   "execution_count": 0,
   "metadata": {
    "application/vnd.databricks.v1+cell": {
     "cellMetadata": {
      "byteLimit": 2048000,
      "rowLimit": 10000
     },
     "inputWidgets": {},
     "nuid": "c279d2e1-9b4c-4cd7-8166-e307ea69d069",
     "showTitle": false,
     "tableResultSettingsMap": {},
     "title": ""
    }
   },
   "outputs": [],
   "source": [
    "company_df_loaded = spark.read.format(\"delta\").load(\"/FileStore/Mock_Project/Star_Schema_Delta/dim_company\")\n",
    "display(company_df_loaded)"
   ]
  },
  {
   "cell_type": "code",
   "execution_count": 0,
   "metadata": {
    "application/vnd.databricks.v1+cell": {
     "cellMetadata": {
      "byteLimit": 2048000,
      "rowLimit": 10000
     },
     "inputWidgets": {},
     "nuid": "7e0df339-ed7b-46c5-9e84-0741fc8351ca",
     "showTitle": false,
     "tableResultSettingsMap": {},
     "title": ""
    }
   },
   "outputs": [],
   "source": [
    "num_df = spark.read.format(\"delta\").load(\"dbfs:/user/hive/warehouse/silver.db/numbers\")\n",
    "display(num_df.limit(20))"
   ]
  },
  {
   "cell_type": "code",
   "execution_count": 0,
   "metadata": {
    "application/vnd.databricks.v1+cell": {
     "cellMetadata": {
      "byteLimit": 2048000,
      "rowLimit": 10000
     },
     "collapsed": true,
     "inputWidgets": {},
     "nuid": "dd1f95c9-1e30-439f-9752-13042e8dbac6",
     "showTitle": false,
     "tableResultSettingsMap": {},
     "title": ""
    }
   },
   "outputs": [],
   "source": [
    "dim_date=num_df.select(\"ddate\")\n",
    "display(dim_date.limit(20))"
   ]
  },
  {
   "cell_type": "code",
   "execution_count": 0,
   "metadata": {
    "application/vnd.databricks.v1+cell": {
     "cellMetadata": {
      "byteLimit": 2048000,
      "rowLimit": 10000
     },
     "collapsed": true,
     "inputWidgets": {},
     "nuid": "5eff93ec-4645-4ef2-bcc9-d5fa2ad4053d",
     "showTitle": false,
     "tableResultSettingsMap": {},
     "title": ""
    }
   },
   "outputs": [],
   "source": [
    "from pyspark.sql.functions import year, month, dayofmonth\n",
    "\n",
    "dim_date = dim_date.withColumn(\"year\", year(\"ddate\")) \\\n",
    "                   .withColumn(\"month\", month(\"ddate\")) \\\n",
    "                   .withColumn(\"day\", dayofmonth(\"ddate\"))\n",
    "dim_date = dim_date.dropDuplicates()\n",
    "display(dim_date.limit(20))"
   ]
  },
  {
   "cell_type": "code",
   "execution_count": 0,
   "metadata": {
    "application/vnd.databricks.v1+cell": {
     "cellMetadata": {
      "byteLimit": 2048000,
      "rowLimit": 10000
     },
     "collapsed": true,
     "inputWidgets": {},
     "nuid": "c830ee58-7d57-4fcf-8114-bdb7a37f06b4",
     "showTitle": false,
     "tableResultSettingsMap": {},
     "title": ""
    }
   },
   "outputs": [],
   "source": [
    "from pyspark.sql.functions import when\n",
    "\n",
    "dim_date = dim_date.withColumn(\n",
    "    \"quarter\",\n",
    "    when(dim_date.month.isin(1, 2, 3), 1)\n",
    "    .when(dim_date.month.isin(4, 5, 6), 2)\n",
    "    .when(dim_date.month.isin(7, 8, 9), 3)\n",
    "    .when(dim_date.month.isin(10, 11, 12), 4)\n",
    ")\n",
    "display(dim_date.limit(20))"
   ]
  },
  {
   "cell_type": "code",
   "execution_count": 0,
   "metadata": {
    "application/vnd.databricks.v1+cell": {
     "cellMetadata": {
      "byteLimit": 2048000,
      "rowLimit": 10000
     },
     "collapsed": true,
     "inputWidgets": {},
     "nuid": "623f34b5-cd72-455d-a018-287a1beae76c",
     "showTitle": false,
     "tableResultSettingsMap": {},
     "title": ""
    }
   },
   "outputs": [],
   "source": [
    "from pyspark.sql.window import Window\n",
    "from pyspark.sql.functions import row_number,col\n",
    "\n",
    "dim_date = dim_date.filter(col(\"ddate\").isNotNull())\n",
    "# Define a window over the entire dataframe\n",
    "window_spec = Window.orderBy(\"ddate\")  # or any other stable column\n",
    "\n",
    "# Add surrogate key starting from 1\n",
    "dim_date = dim_date.withColumn(\"id\", row_number().over(window_spec))\n",
    "display(dim_date)"
   ]
  },
  {
   "cell_type": "code",
   "execution_count": 0,
   "metadata": {
    "application/vnd.databricks.v1+cell": {
     "cellMetadata": {
      "byteLimit": 2048000,
      "rowLimit": 10000
     },
     "collapsed": true,
     "inputWidgets": {},
     "nuid": "0163932d-2aad-4ad2-bbaa-61ba4fd94e98",
     "showTitle": false,
     "tableResultSettingsMap": {},
     "title": ""
    }
   },
   "outputs": [],
   "source": [
    "dim_date=dim_date.select(\"id\", \"ddate\", \"year\", \"quarter\", \"month\", \"day\")\n",
    "display(dim_date.limit(20))"
   ]
  },
  {
   "cell_type": "code",
   "execution_count": 0,
   "metadata": {
    "application/vnd.databricks.v1+cell": {
     "cellMetadata": {
      "byteLimit": 2048000,
      "rowLimit": 10000
     },
     "inputWidgets": {},
     "nuid": "b7897a26-5deb-4016-af65-e4101e88dead",
     "showTitle": false,
     "tableResultSettingsMap": {},
     "title": ""
    }
   },
   "outputs": [],
   "source": [
    "spark.sql(\"DROP TABLE IF EXISTS gold.dim_date\") "
   ]
  },
  {
   "cell_type": "code",
   "execution_count": 0,
   "metadata": {
    "application/vnd.databricks.v1+cell": {
     "cellMetadata": {
      "byteLimit": 2048000,
      "rowLimit": 10000
     },
     "inputWidgets": {},
     "nuid": "a5b12a65-1761-4dd4-b220-50f89874ad5a",
     "showTitle": false,
     "tableResultSettingsMap": {},
     "title": ""
    }
   },
   "outputs": [],
   "source": [
    "dim_date.write.format(\"delta\").mode(\"overwrite\").saveAsTable(\"gold.dim_date\")"
   ]
  },
  {
   "cell_type": "code",
   "execution_count": 0,
   "metadata": {
    "application/vnd.databricks.v1+cell": {
     "cellMetadata": {},
     "inputWidgets": {},
     "nuid": "feea8b1d-cff8-46a0-ab25-32ff64f38890",
     "showTitle": false,
     "tableResultSettingsMap": {},
     "title": ""
    }
   },
   "outputs": [],
   "source": [
    "# date_df_loaded = spark.read.format(\"delta\").load(\"/FileStore/Mock_Project/Star_Schema_Delta/dim_date\")\n",
    "# display(date_df_loaded)"
   ]
  },
  {
   "cell_type": "code",
   "execution_count": 0,
   "metadata": {
    "application/vnd.databricks.v1+cell": {
     "cellMetadata": {
      "byteLimit": 2048000,
      "rowLimit": 10000
     },
     "inputWidgets": {},
     "nuid": "89a2ed76-2575-4078-850b-dbf86d129636",
     "showTitle": false,
     "tableResultSettingsMap": {},
     "title": ""
    }
   },
   "outputs": [],
   "source": [
    "pre_df = spark.read.format(\"delta\").table(\"silver.presentations\")\n",
    "display(pre_df.limit(20))"
   ]
  },
  {
   "cell_type": "code",
   "execution_count": 0,
   "metadata": {
    "application/vnd.databricks.v1+cell": {
     "cellMetadata": {
      "byteLimit": 2048000,
      "rowLimit": 10000
     },
     "inputWidgets": {},
     "nuid": "3066ec31-8e97-44dc-bf7c-4b3671399a5c",
     "showTitle": false,
     "tableResultSettingsMap": {},
     "title": ""
    }
   },
   "outputs": [],
   "source": [
    "pre_df=pre_df.select(\"stmt\", \"report\", \"line\", \"plabel\")\n",
    "pre_df=pre_df.drop_duplicates()\n",
    "# display(pre_df)"
   ]
  },
  {
   "cell_type": "code",
   "execution_count": 0,
   "metadata": {
    "application/vnd.databricks.v1+cell": {
     "cellMetadata": {
      "byteLimit": 2048000,
      "rowLimit": 10000
     },
     "inputWidgets": {},
     "nuid": "89d85692-f951-43de-9ebc-c3558b2728f2",
     "showTitle": false,
     "tableResultSettingsMap": {},
     "title": ""
    }
   },
   "outputs": [],
   "source": [
    "from pyspark.sql.window import Window\n",
    "from pyspark.sql.functions import row_number\n",
    "\n",
    "# Define a window over the entire dataframe\n",
    "window_spec = Window.orderBy(\"stmt\")  # or any other stable column\n",
    "\n",
    "# Add surrogate key starting from 1\n",
    "pre_df = pre_df.withColumn(\"id\", row_number().over(window_spec))\n",
    "pre_df=pre_df.select(\"id\", \"stmt\", \"report\", \"line\", \"plabel\")\n",
    "# display(pre_df)"
   ]
  },
  {
   "cell_type": "code",
   "execution_count": 0,
   "metadata": {
    "application/vnd.databricks.v1+cell": {
     "cellMetadata": {
      "byteLimit": 2048000,
      "rowLimit": 10000
     },
     "inputWidgets": {},
     "nuid": "7a1ff265-d71e-4aee-a5b4-f9d3dc0957aa",
     "showTitle": false,
     "tableResultSettingsMap": {},
     "title": ""
    }
   },
   "outputs": [],
   "source": [
    "spark.sql(\"DROP TABLE IF EXISTS gold.dim_pre\") "
   ]
  },
  {
   "cell_type": "code",
   "execution_count": 0,
   "metadata": {
    "application/vnd.databricks.v1+cell": {
     "cellMetadata": {
      "byteLimit": 2048000,
      "rowLimit": 10000
     },
     "inputWidgets": {},
     "nuid": "dd524847-cbae-42b4-a27f-13387e534967",
     "showTitle": false,
     "tableResultSettingsMap": {},
     "title": ""
    }
   },
   "outputs": [],
   "source": [
    "pre_df.write.format(\"delta\").mode(\"overwrite\").saveAsTable(\"gold.dim_pre\")\n"
   ]
  },
  {
   "cell_type": "code",
   "execution_count": 0,
   "metadata": {
    "application/vnd.databricks.v1+cell": {
     "cellMetadata": {},
     "inputWidgets": {},
     "nuid": "9addeda8-430c-4def-8d89-7d44022676bd",
     "showTitle": false,
     "tableResultSettingsMap": {},
     "title": ""
    }
   },
   "outputs": [],
   "source": [
    "# pre_df_loaded = spark.read.format(\"delta\").load(\"/FileStore/Mock_Project/Star_Schema_Delta/dim_pre\")\n",
    "# display(pre_df_loaded)"
   ]
  }
 ],
 "metadata": {
  "application/vnd.databricks.v1+notebook": {
   "computePreferences": null,
   "dashboards": [],
   "environmentMetadata": {
    "base_environment": "",
    "environment_version": "1"
   },
   "inputWidgetPreferences": null,
   "language": "python",
   "notebookMetadata": {
    "pythonIndentUnit": 4
   },
   "notebookName": "Gold_Dimension_Tables",
   "widgets": {}
  },
  "language_info": {
   "name": "python"
  }
 },
 "nbformat": 4,
 "nbformat_minor": 0
}
