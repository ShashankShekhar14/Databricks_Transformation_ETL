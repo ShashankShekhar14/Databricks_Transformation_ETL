{
 "cells": [
  {
   "cell_type": "code",
   "execution_count": 0,
   "metadata": {
    "application/vnd.databricks.v1+cell": {
     "cellMetadata": {
      "byteLimit": 2048000,
      "rowLimit": 10000
     },
     "inputWidgets": {},
     "nuid": "d2b5eb5d-0074-4396-9d63-e61ade746401",
     "showTitle": false,
     "tableResultSettingsMap": {},
     "title": ""
    }
   },
   "outputs": [],
   "source": [
    "from pyspark.sql.functions import *\n",
    "from pyspark.sql.window import Window\n",
    "from pyspark.sql.functions import row_number\n"
   ]
  },
  {
   "cell_type": "code",
   "execution_count": 0,
   "metadata": {
    "application/vnd.databricks.v1+cell": {
     "cellMetadata": {
      "byteLimit": 2048000,
      "rowLimit": 10000
     },
     "inputWidgets": {},
     "nuid": "dd23a4e5-9c2d-4cff-9fbf-d156e44cbac5",
     "showTitle": false,
     "tableResultSettingsMap": {},
     "title": ""
    }
   },
   "outputs": [],
   "source": [
    "def tag_transform(tag_df):\n",
    "    tag_df = tag_df.filter(tag_df[\"version\"].isNotNull())\n",
    "    tag_df = tag_df.drop(\"year\",\"quarter\")\n",
    "    tag_df = tag_df.withColumn(\"version\", upper(\"version\"))\n",
    "\n",
    "    # Define a dummy window over the entire dataset (no partitioning)\n",
    "    windowSpec = Window.orderBy(\"tag\", \"version\")\n",
    "\n",
    "    # Add surrogate key column\n",
    "    tag_df = tag_df.withColumn(\"tag_id\", row_number().over(windowSpec))\n",
    "\n",
    "    tag_df = tag_df.where(\"abstract != 1\")\n",
    "\n",
    "    tag_df = tag_df.drop(\"custom\", \"abstract\", \"crdr\")\n",
    "\n",
    "    # Get all columns except tag_id\n",
    "    cols = [c for c in tag_df.columns if c != \"tag_id\"]\n",
    "\n",
    "    # Reorder columns with tag_id first\n",
    "    tag_df = tag_df.select([\"tag_id\"] + cols)\n",
    "\n",
    "    return tag_df"
   ]
  },
  {
   "cell_type": "code",
   "execution_count": 0,
   "metadata": {
    "application/vnd.databricks.v1+cell": {
     "cellMetadata": {
      "byteLimit": 2048000,
      "rowLimit": 10000
     },
     "inputWidgets": {},
     "nuid": "f9ab876d-674e-4c19-a0e8-cb80677fd562",
     "showTitle": false,
     "tableResultSettingsMap": {},
     "title": ""
    }
   },
   "outputs": [],
   "source": [
    "tag_df = (\n",
    "    spark.read\n",
    "    .option(\"header\", \"true\")         \n",
    "    .option(\"inferSchema\", \"true\")    \n",
    "    .load(\"dbfs:/user/hive/warehouse/bronzes.db/tags\")\n",
    ")\n",
    "\n",
    "tag_df=tag_transform(tag_df)\n",
    "display(tag_df.limit(20))"
   ]
  },
  {
   "cell_type": "code",
   "execution_count": 0,
   "metadata": {
    "application/vnd.databricks.v1+cell": {
     "cellMetadata": {
      "byteLimit": 2048000,
      "implicitDf": true,
      "rowLimit": 10000
     },
     "inputWidgets": {},
     "nuid": "6cc08d6c-ed64-4123-8712-dd488a2d6909",
     "showTitle": false,
     "tableResultSettingsMap": {},
     "title": ""
    }
   },
   "outputs": [],
   "source": [
    "%sql\n",
    "drop table if exists silver.tags"
   ]
  },
  {
   "cell_type": "code",
   "execution_count": 0,
   "metadata": {
    "application/vnd.databricks.v1+cell": {
     "cellMetadata": {
      "byteLimit": 2048000,
      "rowLimit": 10000
     },
     "inputWidgets": {},
     "nuid": "be83559c-7bbf-45c3-8bb5-75c6f0516720",
     "showTitle": false,
     "tableResultSettingsMap": {},
     "title": ""
    }
   },
   "outputs": [],
   "source": [
    "tag_df.write.format(\"delta\").mode(\"overwrite\").saveAsTable(\"silver.tags\")\n",
    "tag_df_loaded = spark.read.format(\"delta\").table(\"silver.tags\")\n",
    "display(tag_df_loaded)"
   ]
  }
 ],
 "metadata": {
  "application/vnd.databricks.v1+notebook": {
   "computePreferences": null,
   "dashboards": [],
   "environmentMetadata": {
    "base_environment": "",
    "environment_version": "1"
   },
   "inputWidgetPreferences": null,
   "language": "python",
   "notebookMetadata": {
    "mostRecentlyExecutedCommandWithImplicitDF": {
     "commandId": 7525539422956083,
     "dataframes": [
      "_sqldf"
     ]
    },
    "pythonIndentUnit": 4
   },
   "notebookName": "Silver_Tags_Transformations",
   "widgets": {}
  },
  "language_info": {
   "name": "python"
  }
 },
 "nbformat": 4,
 "nbformat_minor": 0
}
