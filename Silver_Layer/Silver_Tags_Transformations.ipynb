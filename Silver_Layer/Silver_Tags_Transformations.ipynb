{
 "cells": [
  {
   "cell_type": "code",
   "execution_count": 0,
   "metadata": {
    "application/vnd.databricks.v1+cell": {
     "cellMetadata": {
      "byteLimit": 2048000,
      "rowLimit": 10000
     },
     "inputWidgets": {},
     "nuid": "d2b5eb5d-0074-4396-9d63-e61ade746401",
     "showTitle": false,
     "tableResultSettingsMap": {},
     "title": ""
    }
   },
   "outputs": [],
   "source": [
    "from pyspark.sql.functions import *\n",
    "from pyspark.sql.window import Window\n",
    "from pyspark.sql.functions import row_number\n"
   ]
  },
  {
   "cell_type": "markdown",
   "metadata": {
    "application/vnd.databricks.v1+cell": {
     "cellMetadata": {
      "byteLimit": 2048000,
      "rowLimit": 10000
     },
     "inputWidgets": {},
     "nuid": "00d3f30b-95be-4143-a594-74688da28dff",
     "showTitle": false,
     "tableResultSettingsMap": {},
     "title": ""
    }
   },
   "source": [
    "### Clean and Transform `tag.txt` for Silver Layer\n",
    "\n",
    "Steps:\n",
    "1. Filter out records with null `version`\n",
    "2. Drop unneeded columns: `year`, `quarter`\n",
    "3. Assign unique `tag_id` to each (`tag`, `version`) combo using `row_number`\n",
    "4. Join this surrogate key back to the original dataset\n",
    "5. Drop less informative columns: `custom`, `abstract`, `crdr`\n"
   ]
  },
  {
   "cell_type": "code",
   "execution_count": 0,
   "metadata": {
    "application/vnd.databricks.v1+cell": {
     "cellMetadata": {
      "byteLimit": 2048000,
      "rowLimit": 10000
     },
     "inputWidgets": {},
     "nuid": "f2d95a2e-beba-4e59-ae94-7f85b92af543",
     "showTitle": false,
     "tableResultSettingsMap": {},
     "title": ""
    }
   },
   "outputs": [],
   "source": [
    "# Corrected\n",
    "def tag_transform(tag_df):\n",
    "    # 1. Filter out null versions and drop unused columns\n",
    "    tag_df = tag_df.filter(col(\"version\").isNotNull()).drop(\"year\", \"quarter\")\n",
    "    \n",
    "    # 2. (Optional) normalize version if needed:\n",
    "    # tag_df = tag_df.withColumn(\"version\", upper(col(\"version\")))\n",
    "    \n",
    "    # 3. Extract distinct (tag, version) combos and assign surrogate keys\n",
    "    distinct_tags = tag_df.select(\"tag\", \"version\").distinct()\n",
    "    windowSpec = Window.orderBy(\"tag\", \"version\")\n",
    "    distinct_tags = distinct_tags.withColumn(\"tag_id\", row_number().over(windowSpec))\n",
    "    \n",
    "    # 4. Join back so every row gets its tag_id\n",
    "    tag_df = tag_df.join(distinct_tags, on=[\"tag\", \"version\"], how=\"left\")\n",
    "    \n",
    "    # 5. Drop unwanted columns and reorder with tag_id first\n",
    "    tag_df = tag_df.drop(\"custom\", \"abstract\", \"crdr\")\n",
    "    cols = [c for c in tag_df.columns if c != \"tag_id\"]\n",
    "    tag_df = tag_df.select([\"tag_id\"] + cols)\n",
    "    \n",
    "    return tag_df\n"
   ]
  },
  {
   "cell_type": "markdown",
   "metadata": {
    "application/vnd.databricks.v1+cell": {
     "cellMetadata": {
      "byteLimit": 2048000,
      "rowLimit": 10000
     },
     "inputWidgets": {},
     "nuid": "3da3bb0e-d1d2-4782-96e7-9657cdea09c3",
     "showTitle": false,
     "tableResultSettingsMap": {},
     "title": ""
    }
   },
   "source": [
    "### Load `tag.txt` from Bronze Layer\n",
    "\n",
    "We load the raw `tag.txt` data, which defines metadata about financial tags used in filings (e.g., tag name, version, labels, and taxonomy).\n"
   ]
  },
  {
   "cell_type": "code",
   "execution_count": 0,
   "metadata": {
    "application/vnd.databricks.v1+cell": {
     "cellMetadata": {
      "byteLimit": 2048000,
      "rowLimit": 10000
     },
     "inputWidgets": {},
     "nuid": "f9ab876d-674e-4c19-a0e8-cb80677fd562",
     "showTitle": false,
     "tableResultSettingsMap": {},
     "title": ""
    }
   },
   "outputs": [],
   "source": [
    "tag_df = (\n",
    "    spark.read\n",
    "    .option(\"header\", \"true\")         \n",
    "    .option(\"inferSchema\", \"true\")    \n",
    "    .load(\"dbfs:/user/hive/warehouse/bronzes.db/tags\")\n",
    ")\n",
    "\n",
    "tag_df=tag_transform(tag_df)\n",
    "display(tag_df.limit(20))"
   ]
  },
  {
   "cell_type": "markdown",
   "metadata": {
    "application/vnd.databricks.v1+cell": {
     "cellMetadata": {
      "byteLimit": 2048000,
      "rowLimit": 10000
     },
     "inputWidgets": {},
     "nuid": "1f4648e1-ac2f-422e-ab84-61600dec8837",
     "showTitle": false,
     "tableResultSettingsMap": {},
     "title": ""
    }
   },
   "source": [
    "###  Quick Validations\n",
    "\n",
    "- Check total unique (`tag`, `version`) pairs created\n",
    "- Confirm highest assigned `tag_id`\n"
   ]
  },
  {
   "cell_type": "code",
   "execution_count": 0,
   "metadata": {
    "application/vnd.databricks.v1+cell": {
     "cellMetadata": {
      "byteLimit": 2048000,
      "rowLimit": 10000
     },
     "inputWidgets": {},
     "nuid": "c8d3b2d2-4447-454c-95a6-ac2aa0bdcf88",
     "showTitle": false,
     "tableResultSettingsMap": {},
     "title": ""
    }
   },
   "outputs": [],
   "source": [
    "tag_df.select(\"tag\",\"version\").distinct().count()"
   ]
  },
  {
   "cell_type": "code",
   "execution_count": 0,
   "metadata": {
    "application/vnd.databricks.v1+cell": {
     "cellMetadata": {
      "byteLimit": 2048000,
      "rowLimit": 10000
     },
     "inputWidgets": {},
     "nuid": "21c0aaab-5e17-4421-ba0b-da31f2dbcde0",
     "showTitle": false,
     "tableResultSettingsMap": {},
     "title": ""
    }
   },
   "outputs": [],
   "source": [
    "display(tag_df.orderBy(col(\"tag_id\").desc()).limit(1))"
   ]
  },
  {
   "cell_type": "code",
   "execution_count": 0,
   "metadata": {
    "application/vnd.databricks.v1+cell": {
     "cellMetadata": {
      "byteLimit": 2048000,
      "implicitDf": true,
      "rowLimit": 10000
     },
     "inputWidgets": {},
     "nuid": "6cc08d6c-ed64-4123-8712-dd488a2d6909",
     "showTitle": false,
     "tableResultSettingsMap": {},
     "title": ""
    }
   },
   "outputs": [],
   "source": [
    "%sql\n",
    "drop table if exists silver.tags"
   ]
  },
  {
   "cell_type": "markdown",
   "metadata": {
    "application/vnd.databricks.v1+cell": {
     "cellMetadata": {
      "byteLimit": 2048000,
      "rowLimit": 10000
     },
     "inputWidgets": {},
     "nuid": "2597d8dc-3af4-49d0-b123-6e37bc5e6437",
     "showTitle": false,
     "tableResultSettingsMap": {},
     "title": ""
    }
   },
   "source": [
    "###  Save Transformed `tag.txt` to Silver Delta Table\n",
    "\n",
    "Write the cleaned data into the Silver layer as a Delta table for downstream reference and joins.\n"
   ]
  },
  {
   "cell_type": "code",
   "execution_count": 0,
   "metadata": {
    "application/vnd.databricks.v1+cell": {
     "cellMetadata": {
      "byteLimit": 2048000,
      "rowLimit": 10000
     },
     "inputWidgets": {},
     "nuid": "be83559c-7bbf-45c3-8bb5-75c6f0516720",
     "showTitle": false,
     "tableResultSettingsMap": {},
     "title": ""
    }
   },
   "outputs": [],
   "source": [
    "tag_df.write.format(\"delta\").mode(\"overwrite\").saveAsTable(\"silver.tags\")\n",
    "tag_df_loaded = spark.read.format(\"delta\").table(\"silver.tags\")\n",
    "display(tag_df_loaded)"
   ]
  }
 ],
 "metadata": {
  "application/vnd.databricks.v1+notebook": {
   "computePreferences": null,
   "dashboards": [],
   "environmentMetadata": {
    "base_environment": "",
    "environment_version": "1"
   },
   "inputWidgetPreferences": null,
   "language": "python",
   "notebookMetadata": {
    "mostRecentlyExecutedCommandWithImplicitDF": {
     "commandId": 7525539422956083,
     "dataframes": [
      "_sqldf"
     ]
    },
    "pythonIndentUnit": 4
   },
   "notebookName": "Silver_Tags_Transformations",
   "widgets": {}
  },
  "language_info": {
   "name": "python"
  }
 },
 "nbformat": 4,
 "nbformat_minor": 0
}
